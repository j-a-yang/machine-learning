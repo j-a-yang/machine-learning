{
  "nbformat": 4,
  "nbformat_minor": 0,
  "metadata": {
    "colab": {
      "name": "HW.02.02.ipynb",
      "provenance": [],
      "collapsed_sections": [
        "rt44vyY1xW9b",
        "l34GNy7tyNks",
        "JC5iBT_0OCSl",
        "kUWqZDeqNOI7",
        "kzvFbH2qBams",
        "KM801YEdBpKt",
        "OA975wHjOJI-",
        "KYWg9pzd4Pt1",
        "2zpnxENIWj4N",
        "MX2EqMuqOskz"
      ]
    },
    "kernelspec": {
      "name": "python3",
      "display_name": "Python 3"
    }
  },
  "cells": [
    {
      "cell_type": "markdown",
      "metadata": {
        "id": "rt44vyY1xW9b",
        "colab_type": "text"
      },
      "source": [
        "# Loading/Preparing MNIST fashion data set"
      ]
    },
    {
      "cell_type": "markdown",
      "metadata": {
        "id": "l34GNy7tyNks",
        "colab_type": "text"
      },
      "source": [
        "## Loading the MNIST fashion data set"
      ]
    },
    {
      "cell_type": "code",
      "metadata": {
        "id": "FSJyddqGexl5",
        "colab_type": "code",
        "colab": {}
      },
      "source": [
        "import tensorflow as tf\n",
        "from tensorflow import keras\n",
        "\n",
        "fashion_mnist = keras.datasets.fashion_mnist\n",
        "\n",
        "(train_images, train_labels), (test_images, test_labels) = fashion_mnist.load_data()"
      ],
      "execution_count": 0,
      "outputs": []
    },
    {
      "cell_type": "markdown",
      "metadata": {
        "id": "JC5iBT_0OCSl",
        "colab_type": "text"
      },
      "source": [
        "## Preprocess the data"
      ]
    },
    {
      "cell_type": "code",
      "metadata": {
        "id": "inugSPsZNytV",
        "colab_type": "code",
        "colab": {}
      },
      "source": [
        "train_images = train_images / 255.0\n",
        "test_images = test_images / 255.0"
      ],
      "execution_count": 0,
      "outputs": []
    },
    {
      "cell_type": "markdown",
      "metadata": {
        "id": "kUWqZDeqNOI7",
        "colab_type": "text"
      },
      "source": [
        "#Model #1: Underfitting"
      ]
    },
    {
      "cell_type": "markdown",
      "metadata": {
        "id": "-ro9jEX5P7kY",
        "colab_type": "text"
      },
      "source": [
        "At first, I used a model with one hidden layer containing a single neuron.  This was giving my test accuracy of less then 0.5, which is bad.  I added just one more neuron to the hidden layer and drastically improved my accuracy to over 70%."
      ]
    },
    {
      "cell_type": "markdown",
      "metadata": {
        "id": "HmEDLZjANf5H",
        "colab_type": "text"
      },
      "source": [
        "## Build the model"
      ]
    },
    {
      "cell_type": "code",
      "metadata": {
        "id": "UxHes0R6NNCZ",
        "colab_type": "code",
        "outputId": "8c536b91-9b48-4574-92bd-98c996e5ad28",
        "colab": {
          "base_uri": "https://localhost:8080/",
          "height": 714
        }
      },
      "source": [
        "# set up the layers\n",
        "\n",
        "model = keras.Sequential([\n",
        "    keras.layers.Flatten(input_shape=(28, 28)),\n",
        "    keras.layers.Dense(2, activation=tf.nn.relu),\n",
        "    keras.layers.Dense(10, activation=tf.nn.softmax)\n",
        "])\n",
        "\n",
        "# compile the model\n",
        "\n",
        "model.compile(optimizer='adam',\n",
        "             loss='sparse_categorical_crossentropy',\n",
        "             metrics=['accuracy'])\n",
        "\n",
        "# train the model\n",
        "epochs = 20\n",
        "history = model.fit(train_images, \n",
        "                      train_labels, \n",
        "                      epochs=epochs,  \n",
        "                      validation_data=(test_images, test_labels))"
      ],
      "execution_count": 0,
      "outputs": [
        {
          "output_type": "stream",
          "text": [
            "Train on 60000 samples, validate on 10000 samples\n",
            "Epoch 1/20\n",
            "60000/60000 [==============================] - 5s 76us/sample - loss: 1.4920 - acc: 0.4593 - val_loss: 1.1675 - val_acc: 0.5605\n",
            "Epoch 2/20\n",
            "60000/60000 [==============================] - 4s 65us/sample - loss: 1.0127 - acc: 0.6384 - val_loss: 0.9342 - val_acc: 0.6769\n",
            "Epoch 3/20\n",
            "60000/60000 [==============================] - 4s 64us/sample - loss: 0.8698 - acc: 0.6971 - val_loss: 0.8483 - val_acc: 0.7057\n",
            "Epoch 4/20\n",
            "60000/60000 [==============================] - 4s 64us/sample - loss: 0.8182 - acc: 0.7096 - val_loss: 0.8363 - val_acc: 0.7041\n",
            "Epoch 5/20\n",
            "60000/60000 [==============================] - 4s 65us/sample - loss: 0.7947 - acc: 0.7157 - val_loss: 0.8068 - val_acc: 0.7160\n",
            "Epoch 6/20\n",
            "60000/60000 [==============================] - 4s 65us/sample - loss: 0.7818 - acc: 0.7189 - val_loss: 0.7966 - val_acc: 0.7062\n",
            "Epoch 7/20\n",
            "60000/60000 [==============================] - 4s 64us/sample - loss: 0.7710 - acc: 0.7220 - val_loss: 0.7898 - val_acc: 0.7121\n",
            "Epoch 8/20\n",
            "60000/60000 [==============================] - 4s 64us/sample - loss: 0.7634 - acc: 0.7244 - val_loss: 0.7833 - val_acc: 0.7254\n",
            "Epoch 9/20\n",
            "60000/60000 [==============================] - 4s 64us/sample - loss: 0.7571 - acc: 0.7268 - val_loss: 0.7798 - val_acc: 0.7119\n",
            "Epoch 10/20\n",
            "60000/60000 [==============================] - 4s 65us/sample - loss: 0.7528 - acc: 0.7286 - val_loss: 0.7768 - val_acc: 0.7198\n",
            "Epoch 11/20\n",
            "60000/60000 [==============================] - 4s 64us/sample - loss: 0.7483 - acc: 0.7301 - val_loss: 0.7750 - val_acc: 0.7223\n",
            "Epoch 12/20\n",
            "60000/60000 [==============================] - 4s 65us/sample - loss: 0.7449 - acc: 0.7315 - val_loss: 0.7701 - val_acc: 0.7232\n",
            "Epoch 13/20\n",
            "60000/60000 [==============================] - 4s 64us/sample - loss: 0.7420 - acc: 0.7333 - val_loss: 0.7740 - val_acc: 0.7241\n",
            "Epoch 14/20\n",
            "60000/60000 [==============================] - 4s 64us/sample - loss: 0.7396 - acc: 0.7322 - val_loss: 0.7733 - val_acc: 0.7273\n",
            "Epoch 15/20\n",
            "60000/60000 [==============================] - 4s 64us/sample - loss: 0.7379 - acc: 0.7333 - val_loss: 0.7654 - val_acc: 0.7281\n",
            "Epoch 16/20\n",
            "60000/60000 [==============================] - 4s 65us/sample - loss: 0.7353 - acc: 0.7347 - val_loss: 0.7643 - val_acc: 0.7271\n",
            "Epoch 17/20\n",
            "60000/60000 [==============================] - 4s 64us/sample - loss: 0.7325 - acc: 0.7367 - val_loss: 0.7650 - val_acc: 0.7194\n",
            "Epoch 18/20\n",
            "60000/60000 [==============================] - 4s 64us/sample - loss: 0.7309 - acc: 0.7366 - val_loss: 0.7682 - val_acc: 0.7223\n",
            "Epoch 19/20\n",
            "60000/60000 [==============================] - 4s 65us/sample - loss: 0.7302 - acc: 0.7362 - val_loss: 0.7656 - val_acc: 0.7331\n",
            "Epoch 20/20\n",
            "60000/60000 [==============================] - 4s 64us/sample - loss: 0.7280 - acc: 0.7380 - val_loss: 0.7703 - val_acc: 0.7309\n"
          ],
          "name": "stdout"
        }
      ]
    },
    {
      "cell_type": "markdown",
      "metadata": {
        "id": "SWt0CiSGNp4o",
        "colab_type": "text"
      },
      "source": [
        "## Evaluate accuracy"
      ]
    },
    {
      "cell_type": "code",
      "metadata": {
        "id": "lSeeUL0zNrC7",
        "colab_type": "code",
        "outputId": "7384bb08-a37d-4148-8c05-18e734e33f01",
        "colab": {
          "base_uri": "https://localhost:8080/",
          "height": 51
        }
      },
      "source": [
        "test_loss, test_acc = model.evaluate(test_images, test_labels)\n",
        "\n",
        "print('Test accuracy:', test_acc)"
      ],
      "execution_count": 0,
      "outputs": [
        {
          "output_type": "stream",
          "text": [
            "10000/10000 [==============================] - 0s 43us/sample - loss: 0.7703 - acc: 0.7309\n",
            "Test accuracy: 0.7309\n"
          ],
          "name": "stdout"
        }
      ]
    },
    {
      "cell_type": "markdown",
      "metadata": {
        "id": "lIyA3vc9NtyF",
        "colab_type": "text"
      },
      "source": [
        "## Training/test loss/accuracy during training"
      ]
    },
    {
      "cell_type": "code",
      "metadata": {
        "id": "IlykcoMTNxcQ",
        "colab_type": "code",
        "colab": {}
      },
      "source": [
        "history_dict = history.history\n",
        "loss_values = history_dict['loss']\n",
        "test_loss_values = history_dict['val_loss']\n",
        "epochs_range = range(1, epochs+1)"
      ],
      "execution_count": 0,
      "outputs": []
    },
    {
      "cell_type": "code",
      "metadata": {
        "id": "sjUs9SUtN1Fq",
        "colab_type": "code",
        "outputId": "e09c945c-a01f-4d74-ceab-fa0586982975",
        "colab": {
          "base_uri": "https://localhost:8080/",
          "height": 295
        }
      },
      "source": [
        "plt.plot(epochs_range, loss_values, 'bo', label='Training loss')\n",
        "plt.plot(epochs_range, test_loss_values, 'ro', label='Test loss')\n",
        "plt.title('Training and test loss')\n",
        "plt.xlabel('Epochs')\n",
        "plt.ylabel('Loss')\n",
        "plt.legend()\n",
        "plt.show()"
      ],
      "execution_count": 0,
      "outputs": [
        {
          "output_type": "display_data",
          "data": {
            "image/png": "[encoded data removed]",
            "text/plain": [
              "<Figure size 432x288 with 1 Axes>"
            ]
          },
          "metadata": {
            "tags": []
          }
        }
      ]
    },
    {
      "cell_type": "code",
      "metadata": {
        "id": "qxcok2oKN5w3",
        "colab_type": "code",
        "colab": {}
      },
      "source": [
        "acc_values = history_dict['acc']\n",
        "test_acc_values = history_dict['val_acc']"
      ],
      "execution_count": 0,
      "outputs": []
    },
    {
      "cell_type": "code",
      "metadata": {
        "id": "REBxxV59N8jd",
        "colab_type": "code",
        "outputId": "95875444-a728-428e-e1c0-324e4bd6f498",
        "colab": {
          "base_uri": "https://localhost:8080/",
          "height": 295
        }
      },
      "source": [
        "plt.plot(epochs_range, acc_values, 'bo', label='Training accuracy')\n",
        "plt.plot(epochs_range, test_acc_values, 'ro', label='Test accuracy')\n",
        "plt.title('Training and test accuracy')\n",
        "plt.xlabel('Epochs')\n",
        "plt.ylabel('Accuracy')\n",
        "plt.legend()\n",
        "plt.show()"
      ],
      "execution_count": 0,
      "outputs": [
        {
          "output_type": "display_data",
          "data": {
            "image/png": "[encoded data removed]",
            "text/plain": [
              "<Figure size 432x288 with 1 Axes>"
            ]
          },
          "metadata": {
            "tags": []
          }
        }
      ]
    },
    {
      "cell_type": "markdown",
      "metadata": {
        "id": "kzvFbH2qBams",
        "colab_type": "text"
      },
      "source": [
        "# Model #2: Overfitting"
      ]
    },
    {
      "cell_type": "markdown",
      "metadata": {
        "id": "KM801YEdBpKt",
        "colab_type": "text"
      },
      "source": [
        "## Build the model"
      ]
    },
    {
      "cell_type": "code",
      "metadata": {
        "id": "etpxMK-9Bqpn",
        "colab_type": "code",
        "outputId": "884d99fc-3c0a-4cc2-8112-66f0475575f4",
        "colab": {
          "base_uri": "https://localhost:8080/",
          "height": 714
        }
      },
      "source": [
        "# set up the layers\n",
        "\n",
        "model = keras.Sequential([\n",
        "    keras.layers.Flatten(input_shape=(28, 28)),\n",
        "    keras.layers.Dense(256, activation=tf.nn.relu),\n",
        "    keras.layers.Dense(10, activation=tf.nn.softmax)\n",
        "])\n",
        "\n",
        "# compile the model\n",
        "\n",
        "model.compile(optimizer='adam',\n",
        "             loss='sparse_categorical_crossentropy',\n",
        "             metrics=['accuracy'])\n",
        "\n",
        "# train the model\n",
        "epochs = 20\n",
        "history = model.fit(train_images, \n",
        "                      train_labels, \n",
        "                      epochs=epochs,  \n",
        "                      validation_data=(test_images, test_labels))"
      ],
      "execution_count": 0,
      "outputs": [
        {
          "output_type": "stream",
          "text": [
            "Train on 60000 samples, validate on 10000 samples\n",
            "Epoch 1/20\n",
            "60000/60000 [==============================] - 7s 112us/sample - loss: 0.4870 - acc: 0.8274 - val_loss: 0.4353 - val_acc: 0.8449\n",
            "Epoch 2/20\n",
            "60000/60000 [==============================] - 6s 103us/sample - loss: 0.3661 - acc: 0.8672 - val_loss: 0.3933 - val_acc: 0.8533\n",
            "Epoch 3/20\n",
            "60000/60000 [==============================] - 6s 105us/sample - loss: 0.3293 - acc: 0.8798 - val_loss: 0.3843 - val_acc: 0.8577\n",
            "Epoch 4/20\n",
            "60000/60000 [==============================] - 6s 106us/sample - loss: 0.3062 - acc: 0.8866 - val_loss: 0.3548 - val_acc: 0.8732\n",
            "Epoch 5/20\n",
            "60000/60000 [==============================] - 6s 104us/sample - loss: 0.2873 - acc: 0.8928 - val_loss: 0.3579 - val_acc: 0.8682\n",
            "Epoch 6/20\n",
            "60000/60000 [==============================] - 6s 103us/sample - loss: 0.2736 - acc: 0.8981 - val_loss: 0.3272 - val_acc: 0.8853\n",
            "Epoch 7/20\n",
            "60000/60000 [==============================] - 6s 104us/sample - loss: 0.2596 - acc: 0.9028 - val_loss: 0.3254 - val_acc: 0.8841\n",
            "Epoch 8/20\n",
            "60000/60000 [==============================] - 6s 108us/sample - loss: 0.2488 - acc: 0.9058 - val_loss: 0.3555 - val_acc: 0.8808\n",
            "Epoch 9/20\n",
            "60000/60000 [==============================] - 6s 107us/sample - loss: 0.2391 - acc: 0.9113 - val_loss: 0.3265 - val_acc: 0.8865\n",
            "Epoch 10/20\n",
            "60000/60000 [==============================] - 6s 107us/sample - loss: 0.2302 - acc: 0.9135 - val_loss: 0.3397 - val_acc: 0.8829\n",
            "Epoch 11/20\n",
            "60000/60000 [==============================] - 6s 107us/sample - loss: 0.2202 - acc: 0.9162 - val_loss: 0.3325 - val_acc: 0.8797\n",
            "Epoch 12/20\n",
            "60000/60000 [==============================] - 7s 119us/sample - loss: 0.2137 - acc: 0.9199 - val_loss: 0.3374 - val_acc: 0.8885\n",
            "Epoch 13/20\n",
            "60000/60000 [==============================] - 7s 113us/sample - loss: 0.2036 - acc: 0.9228 - val_loss: 0.3329 - val_acc: 0.8901\n",
            "Epoch 14/20\n",
            "60000/60000 [==============================] - 7s 114us/sample - loss: 0.1984 - acc: 0.9250 - val_loss: 0.3368 - val_acc: 0.8888\n",
            "Epoch 15/20\n",
            "60000/60000 [==============================] - 6s 104us/sample - loss: 0.1917 - acc: 0.9281 - val_loss: 0.3353 - val_acc: 0.8918\n",
            "Epoch 16/20\n",
            "60000/60000 [==============================] - 6s 103us/sample - loss: 0.1848 - acc: 0.9302 - val_loss: 0.3360 - val_acc: 0.8950\n",
            "Epoch 17/20\n",
            "60000/60000 [==============================] - 6s 106us/sample - loss: 0.1797 - acc: 0.9326 - val_loss: 0.3520 - val_acc: 0.8881\n",
            "Epoch 18/20\n",
            "60000/60000 [==============================] - 6s 104us/sample - loss: 0.1743 - acc: 0.9347 - val_loss: 0.3399 - val_acc: 0.8918\n",
            "Epoch 19/20\n",
            "60000/60000 [==============================] - 6s 103us/sample - loss: 0.1691 - acc: 0.9363 - val_loss: 0.3544 - val_acc: 0.8886\n",
            "Epoch 20/20\n",
            "60000/60000 [==============================] - 6s 104us/sample - loss: 0.1634 - acc: 0.9383 - val_loss: 0.3806 - val_acc: 0.8885\n"
          ],
          "name": "stdout"
        }
      ]
    },
    {
      "cell_type": "markdown",
      "metadata": {
        "id": "bBlxLk44By6y",
        "colab_type": "text"
      },
      "source": [
        "## Evaluate accuracy"
      ]
    },
    {
      "cell_type": "code",
      "metadata": {
        "id": "9KLuNV4fB0B-",
        "colab_type": "code",
        "outputId": "c91d698f-a6c7-40e2-fd9a-c366623ec689",
        "colab": {
          "base_uri": "https://localhost:8080/",
          "height": 51
        }
      },
      "source": [
        "test_loss, test_acc = model.evaluate(test_images, test_labels)\n",
        "\n",
        "print('Test accuracy:', test_acc)"
      ],
      "execution_count": 0,
      "outputs": [
        {
          "output_type": "stream",
          "text": [
            "10000/10000 [==============================] - 1s 56us/sample - loss: 0.3806 - acc: 0.8885\n",
            "Test accuracy: 0.8885\n"
          ],
          "name": "stdout"
        }
      ]
    },
    {
      "cell_type": "markdown",
      "metadata": {
        "id": "WT_aKs7oCAM6",
        "colab_type": "text"
      },
      "source": [
        "## Training/test loss/accuracy during training"
      ]
    },
    {
      "cell_type": "code",
      "metadata": {
        "id": "LphOqZOjB85w",
        "colab_type": "code",
        "colab": {}
      },
      "source": [
        "history_dict = history.history\n",
        "loss_values = history_dict['loss']\n",
        "test_loss_values = history_dict['val_loss']\n",
        "epochs_range = range(1, epochs+1)"
      ],
      "execution_count": 0,
      "outputs": []
    },
    {
      "cell_type": "code",
      "metadata": {
        "id": "Tsbo4tLyCCKc",
        "colab_type": "code",
        "outputId": "205853bd-4479-4043-e3a9-5d728aef2ecf",
        "colab": {
          "base_uri": "https://localhost:8080/",
          "height": 295
        }
      },
      "source": [
        "plt.plot(epochs_range, loss_values, 'bo', label='Training loss')\n",
        "plt.plot(epochs_range, test_loss_values, 'ro', label='Test loss')\n",
        "plt.title('Training and test loss')\n",
        "plt.xlabel('Epochs')\n",
        "plt.ylabel('Loss')\n",
        "plt.legend()\n",
        "plt.show()"
      ],
      "execution_count": 0,
      "outputs": [
        {
          "output_type": "display_data",
          "data": {
            "image/png": "[encoded data removed]",
            "text/plain": [
              "<Figure size 432x288 with 1 Axes>"
            ]
          },
          "metadata": {
            "tags": []
          }
        }
      ]
    },
    {
      "cell_type": "code",
      "metadata": {
        "id": "Mst-uT1DCFUE",
        "colab_type": "code",
        "colab": {}
      },
      "source": [
        "acc_values = history_dict['acc']\n",
        "test_acc_values = history_dict['val_acc']"
      ],
      "execution_count": 0,
      "outputs": []
    },
    {
      "cell_type": "code",
      "metadata": {
        "id": "OqM_bWqXCI3O",
        "colab_type": "code",
        "outputId": "7b734292-cf46-400b-ecf7-6e02408426f4",
        "colab": {
          "base_uri": "https://localhost:8080/",
          "height": 295
        }
      },
      "source": [
        "plt.plot(epochs_range, acc_values, 'bo', label='Training accuracy')\n",
        "plt.plot(epochs_range, test_acc_values, 'ro', label='Test accuracy')\n",
        "plt.title('Training and test accuracy')\n",
        "plt.xlabel('Epochs')\n",
        "plt.ylabel('Accuracy')\n",
        "plt.legend()\n",
        "plt.show()"
      ],
      "execution_count": 0,
      "outputs": [
        {
          "output_type": "display_data",
          "data": {
            "image/png": "[encoded data removed]",
            "text/plain": [
              "<Figure size 432x288 with 1 Axes>"
            ]
          },
          "metadata": {
            "tags": []
          }
        }
      ]
    },
    {
      "cell_type": "markdown",
      "metadata": {
        "id": "OA975wHjOJI-",
        "colab_type": "text"
      },
      "source": [
        "# Model #3: Pretty Good Fit"
      ]
    },
    {
      "cell_type": "markdown",
      "metadata": {
        "id": "gt5VHndRA2N3",
        "colab_type": "text"
      },
      "source": [
        "Since the original model provided to us was getting pretty good accuracy but was clearly overfitting, I just added dropout to the model to fight the overfitting. The result is pretty good and the accuracy isn't bad.\n",
        "\n",
        "I tried using 256 neurons in first hidden layer and changing the number of epochs from 5 to 30, and tweaking several other parameters but was not able to get accuracy to exceed 89%."
      ]
    },
    {
      "cell_type": "markdown",
      "metadata": {
        "id": "KYWg9pzd4Pt1",
        "colab_type": "text"
      },
      "source": [
        "## Build the model"
      ]
    },
    {
      "cell_type": "code",
      "metadata": {
        "id": "ZX6SGTpMOIKN",
        "colab_type": "code",
        "outputId": "1535b58a-3d58-46b1-ef2d-f2c778032f92",
        "colab": {
          "base_uri": "https://localhost:8080/",
          "height": 714
        }
      },
      "source": [
        "# set up the layers\n",
        "\n",
        "model = keras.Sequential([\n",
        "    keras.layers.Flatten(input_shape=(28, 28)),\n",
        "    keras.layers.Dense(128, activation=tf.nn.relu),\n",
        "    keras.layers.Dropout(0.5),\n",
        "    keras.layers.Dense(10, activation=tf.nn.softmax)\n",
        "])\n",
        "\n",
        "# compile the model\n",
        "\n",
        "model.compile(optimizer='adam',\n",
        "             loss='sparse_categorical_crossentropy',\n",
        "             metrics=['accuracy'])\n",
        "\n",
        "# train the model\n",
        "epochs = 20\n",
        "history = model.fit(train_images, \n",
        "                      train_labels, \n",
        "                      epochs=epochs,  \n",
        "                      validation_data=(test_images, test_labels))"
      ],
      "execution_count": 0,
      "outputs": [
        {
          "output_type": "stream",
          "text": [
            "Train on 60000 samples, validate on 10000 samples\n",
            "Epoch 1/20\n",
            "60000/60000 [==============================] - 10s 173us/sample - loss: 0.6151 - acc: 0.7840 - val_loss: 0.4517 - val_acc: 0.8329\n",
            "Epoch 2/20\n",
            "60000/60000 [==============================] - 9s 143us/sample - loss: 0.4712 - acc: 0.8311 - val_loss: 0.4206 - val_acc: 0.8475\n",
            "Epoch 3/20\n",
            "60000/60000 [==============================] - 9s 146us/sample - loss: 0.4390 - acc: 0.8421 - val_loss: 0.3991 - val_acc: 0.8535\n",
            "Epoch 4/20\n",
            "60000/60000 [==============================] - 9s 148us/sample - loss: 0.4167 - acc: 0.8485 - val_loss: 0.3811 - val_acc: 0.8625\n",
            "Epoch 5/20\n",
            "60000/60000 [==============================] - 9s 145us/sample - loss: 0.4034 - acc: 0.8523 - val_loss: 0.3852 - val_acc: 0.8586\n",
            "Epoch 6/20\n",
            "60000/60000 [==============================] - 9s 148us/sample - loss: 0.3939 - acc: 0.8560 - val_loss: 0.3811 - val_acc: 0.8627\n",
            "Epoch 7/20\n",
            "60000/60000 [==============================] - 9s 145us/sample - loss: 0.3831 - acc: 0.8604 - val_loss: 0.3672 - val_acc: 0.8735\n",
            "Epoch 8/20\n",
            "60000/60000 [==============================] - 9s 150us/sample - loss: 0.3757 - acc: 0.8619 - val_loss: 0.3727 - val_acc: 0.8633\n",
            "Epoch 9/20\n",
            "60000/60000 [==============================] - 9s 151us/sample - loss: 0.3689 - acc: 0.8648 - val_loss: 0.3576 - val_acc: 0.8720\n",
            "Epoch 10/20\n",
            "60000/60000 [==============================] - 9s 146us/sample - loss: 0.3610 - acc: 0.8663 - val_loss: 0.3635 - val_acc: 0.8719\n",
            "Epoch 11/20\n",
            "60000/60000 [==============================] - 9s 152us/sample - loss: 0.3578 - acc: 0.8682 - val_loss: 0.3602 - val_acc: 0.8750\n",
            "Epoch 12/20\n",
            "60000/60000 [==============================] - 9s 154us/sample - loss: 0.3527 - acc: 0.8712 - val_loss: 0.3568 - val_acc: 0.8751\n",
            "Epoch 13/20\n",
            "60000/60000 [==============================] - 9s 151us/sample - loss: 0.3489 - acc: 0.8708 - val_loss: 0.3513 - val_acc: 0.8752\n",
            "Epoch 14/20\n",
            "60000/60000 [==============================] - 9s 144us/sample - loss: 0.3448 - acc: 0.8716 - val_loss: 0.3522 - val_acc: 0.8749\n",
            "Epoch 15/20\n",
            "60000/60000 [==============================] - 10s 161us/sample - loss: 0.3403 - acc: 0.8742 - val_loss: 0.3590 - val_acc: 0.8760\n",
            "Epoch 16/20\n",
            "60000/60000 [==============================] - 9s 152us/sample - loss: 0.3382 - acc: 0.8754 - val_loss: 0.3470 - val_acc: 0.8799\n",
            "Epoch 17/20\n",
            "60000/60000 [==============================] - 9s 154us/sample - loss: 0.3397 - acc: 0.8750 - val_loss: 0.3538 - val_acc: 0.8798\n",
            "Epoch 18/20\n",
            "60000/60000 [==============================] - 9s 151us/sample - loss: 0.3356 - acc: 0.8749 - val_loss: 0.3499 - val_acc: 0.8797\n",
            "Epoch 19/20\n",
            "60000/60000 [==============================] - 9s 155us/sample - loss: 0.3314 - acc: 0.8758 - val_loss: 0.3557 - val_acc: 0.8794\n",
            "Epoch 20/20\n",
            "60000/60000 [==============================] - 10s 160us/sample - loss: 0.3271 - acc: 0.8776 - val_loss: 0.3529 - val_acc: 0.8782\n"
          ],
          "name": "stdout"
        }
      ]
    },
    {
      "cell_type": "markdown",
      "metadata": {
        "id": "mORb9IwPP7oE",
        "colab_type": "text"
      },
      "source": [
        "## Evaluate accuracy"
      ]
    },
    {
      "cell_type": "code",
      "metadata": {
        "id": "rlKIF6ijOkiE",
        "colab_type": "code",
        "outputId": "94bcb284-ee55-4976-f3b5-4294557afb2e",
        "colab": {
          "base_uri": "https://localhost:8080/",
          "height": 51
        }
      },
      "source": [
        "test_loss, test_acc = model.evaluate(test_images, test_labels)\n",
        "\n",
        "print('Test accuracy:', test_acc)"
      ],
      "execution_count": 0,
      "outputs": [
        {
          "output_type": "stream",
          "text": [
            "10000/10000 [==============================] - 1s 60us/sample - loss: 0.3529 - acc: 0.8782\n",
            "Test accuracy: 0.8782\n"
          ],
          "name": "stdout"
        }
      ]
    },
    {
      "cell_type": "markdown",
      "metadata": {
        "id": "GqbGdV6oXEyP",
        "colab_type": "text"
      },
      "source": [
        "## Training/test loss/accuracy during training"
      ]
    },
    {
      "cell_type": "code",
      "metadata": {
        "id": "3b5OCE5YTrEc",
        "colab_type": "code",
        "colab": {}
      },
      "source": [
        "history_dict = history.history\n",
        "loss_values = history_dict['loss']\n",
        "test_loss_values = history_dict['val_loss']\n",
        "epochs_range = range(1, epochs+1)"
      ],
      "execution_count": 0,
      "outputs": []
    },
    {
      "cell_type": "code",
      "metadata": {
        "id": "y98AOblYT3Pk",
        "colab_type": "code",
        "outputId": "6ff9fc9a-c99c-4f33-808c-9678adc687c5",
        "colab": {
          "base_uri": "https://localhost:8080/",
          "height": 295
        }
      },
      "source": [
        "plt.plot(epochs_range, loss_values, 'bo', label='Training loss')\n",
        "plt.plot(epochs_range, test_loss_values, 'ro', label='Test loss')\n",
        "plt.title('Training and test loss')\n",
        "plt.xlabel('Epochs')\n",
        "plt.ylabel('Loss')\n",
        "plt.legend()\n",
        "plt.show()"
      ],
      "execution_count": 0,
      "outputs": [
        {
          "output_type": "display_data",
          "data": {
            "image/png": "[encoded data removed]",
            "text/plain": [
              "<Figure size 432x288 with 1 Axes>"
            ]
          },
          "metadata": {
            "tags": []
          }
        }
      ]
    },
    {
      "cell_type": "code",
      "metadata": {
        "id": "790AkDaTWuZU",
        "colab_type": "code",
        "colab": {}
      },
      "source": [
        "acc_values = history_dict['acc']\n",
        "test_acc_values = history_dict['val_acc']"
      ],
      "execution_count": 0,
      "outputs": []
    },
    {
      "cell_type": "code",
      "metadata": {
        "id": "7BkIfPQ4W39E",
        "colab_type": "code",
        "outputId": "6cd4d0c3-0b62-426d-ecf7-ec19b7a50aec",
        "colab": {
          "base_uri": "https://localhost:8080/",
          "height": 295
        }
      },
      "source": [
        "plt.plot(epochs_range, acc_values, 'bo', label='Training accuracy')\n",
        "plt.plot(epochs_range, test_acc_values, 'ro', label='Test accuracy')\n",
        "plt.title('Training and test accuracy')\n",
        "plt.xlabel('Epochs')\n",
        "plt.ylabel('Accuracy')\n",
        "plt.legend()\n",
        "plt.show()"
      ],
      "execution_count": 0,
      "outputs": [
        {
          "output_type": "display_data",
          "data": {
            "image/png": "[encoded data removed]",
            "text/plain": [
              "<Figure size 432x288 with 1 Axes>"
            ]
          },
          "metadata": {
            "tags": []
          }
        }
      ]
    },
    {
      "cell_type": "markdown",
      "metadata": {
        "id": "2zpnxENIWj4N",
        "colab_type": "text"
      },
      "source": [
        "## Make predictions"
      ]
    },
    {
      "cell_type": "code",
      "metadata": {
        "id": "EMJTp1IDQIXE",
        "colab_type": "code",
        "colab": {}
      },
      "source": [
        "predictions = model.predict(test_images)"
      ],
      "execution_count": 0,
      "outputs": []
    },
    {
      "cell_type": "code",
      "metadata": {
        "id": "AoYG5h-ZWqzU",
        "colab_type": "code",
        "outputId": "24f10c38-fda0-495b-c57e-fe40124c28e2",
        "colab": {
          "base_uri": "https://localhost:8080/",
          "height": 68
        }
      },
      "source": [
        "index = 0\n",
        "predictions[index]"
      ],
      "execution_count": 0,
      "outputs": [
        {
          "output_type": "execute_result",
          "data": {
            "text/plain": [
              "array([2.9290161e-08, 1.9359080e-10, 7.1091175e-11, 9.6712395e-13,\n",
              "       8.8301816e-10, 2.2591840e-02, 8.7031751e-09, 6.8206191e-02,\n",
              "       1.9256417e-07, 9.0920174e-01], dtype=float32)"
            ]
          },
          "metadata": {
            "tags": []
          },
          "execution_count": 133
        }
      ]
    },
    {
      "cell_type": "code",
      "metadata": {
        "id": "IU2elMC0Wsju",
        "colab_type": "code",
        "outputId": "4d1aa18e-a846-4425-b6dd-0987bdc6415d",
        "colab": {
          "base_uri": "https://localhost:8080/",
          "height": 34
        }
      },
      "source": [
        "np.argmax(predictions[index])"
      ],
      "execution_count": 0,
      "outputs": [
        {
          "output_type": "execute_result",
          "data": {
            "text/plain": [
              "9"
            ]
          },
          "metadata": {
            "tags": []
          },
          "execution_count": 134
        }
      ]
    },
    {
      "cell_type": "code",
      "metadata": {
        "id": "ohfgh9IsWx48",
        "colab_type": "code",
        "outputId": "a94e4f60-982e-410c-94ac-fecc4d0bf288",
        "colab": {
          "base_uri": "https://localhost:8080/",
          "height": 34
        }
      },
      "source": [
        "test_labels[index]"
      ],
      "execution_count": 0,
      "outputs": [
        {
          "output_type": "execute_result",
          "data": {
            "text/plain": [
              "9"
            ]
          },
          "metadata": {
            "tags": []
          },
          "execution_count": 135
        }
      ]
    },
    {
      "cell_type": "code",
      "metadata": {
        "id": "5z8UXzYHW0NV",
        "colab_type": "code",
        "colab": {}
      },
      "source": [
        "def plot_image(i, predictions_array, true_label, img):\n",
        "  predictions_array, true_label, img = predictions_array[i], true_label[i], img[i]\n",
        "  plt.grid(False)\n",
        "  plt.xticks([])\n",
        "  plt.yticks([])\n",
        "\n",
        "  plt.imshow(img, cmap=plt.cm.binary)\n",
        "\n",
        "  predicted_label = np.argmax(predictions_array)\n",
        "  if predicted_label == true_label:\n",
        "    color = 'blue'\n",
        "  else:\n",
        "    color = 'red'\n",
        "\n",
        "  plt.xlabel(\"{} {:2.0f}% ({})\".format(class_names[predicted_label],\n",
        "                                100*np.max(predictions_array),\n",
        "                                class_names[true_label]),\n",
        "                                color=color)\n",
        "\n",
        "def plot_value_array(i, predictions_array, true_label):\n",
        "  predictions_array, true_label = predictions_array[i], true_label[i]\n",
        "  plt.grid(False)\n",
        "  plt.xticks([])\n",
        "  plt.yticks([])\n",
        "  thisplot = plt.bar(range(10), predictions_array, color=\"#777777\")\n",
        "  plt.ylim([0, 1])\n",
        "  predicted_label = np.argmax(predictions_array)\n",
        "\n",
        "  thisplot[predicted_label].set_color('red')\n",
        "  thisplot[true_label].set_color('blue')"
      ],
      "execution_count": 0,
      "outputs": []
    },
    {
      "cell_type": "code",
      "metadata": {
        "id": "zt5AUKVlW7gk",
        "colab_type": "code",
        "outputId": "080b9eac-b430-45e3-a8ca-5badf36966e1",
        "colab": {
          "base_uri": "https://localhost:8080/",
          "height": 203
        }
      },
      "source": [
        "index = 0\n",
        "plt.figure(figsize=(6,3))\n",
        "plt.subplot(1,2,1)\n",
        "plot_image(index, predictions, test_labels, test_images)\n",
        "plt.subplot(1,2,2)\n",
        "plot_value_array(index, predictions,  test_labels)\n"
      ],
      "execution_count": 0,
      "outputs": [
        {
          "output_type": "display_data",
          "data": {
            "image/png": "[encoded data removed]",
            "text/plain": [
              "<Figure size 432x216 with 2 Axes>"
            ]
          },
          "metadata": {
            "tags": []
          }
        }
      ]
    },
    {
      "cell_type": "code",
      "metadata": {
        "id": "tD61VS-IXHk8",
        "colab_type": "code",
        "outputId": "55820b5a-e27c-4377-d734-b34d76d06929",
        "colab": {
          "base_uri": "https://localhost:8080/",
          "height": 589
        }
      },
      "source": [
        "# Plot the first X test images, their predicted label, and the true label\n",
        "# Color correct predictions in blue, incorrect predictions in red\n",
        "num_rows = 5\n",
        "num_cols = 3\n",
        "num_images = num_rows*num_cols\n",
        "plt.figure(figsize=(2*2*num_cols, 2*num_rows))\n",
        "for i in range(num_images):\n",
        "  plt.subplot(num_rows, 2*num_cols, 2*i+1)\n",
        "  plot_image(i, predictions, test_labels, test_images)\n",
        "  plt.subplot(num_rows, 2*num_cols, 2*i+2)\n",
        "  plot_value_array(i, predictions, test_labels)\n"
      ],
      "execution_count": 0,
      "outputs": [
        {
          "output_type": "display_data",
          "data": {
            "image/png": "[encoded data removed]",
            "text/plain": [
              "<Figure size 864x720 with 30 Axes>"
            ]
          },
          "metadata": {
            "tags": []
          }
        }
      ]
    },
    {
      "cell_type": "markdown",
      "metadata": {
        "id": "MX2EqMuqOskz",
        "colab_type": "text"
      },
      "source": [
        "## Make prediction about a single image"
      ]
    },
    {
      "cell_type": "code",
      "metadata": {
        "id": "pHhfS4T3XQs8",
        "colab_type": "code",
        "outputId": "78870b6d-228b-47bb-fc49-f6f26e6f2e9a",
        "colab": {
          "base_uri": "https://localhost:8080/",
          "height": 34
        }
      },
      "source": [
        "index = 0\n",
        "test_image = test_images[index]\n",
        "print(test_image.shape)"
      ],
      "execution_count": 0,
      "outputs": [
        {
          "output_type": "stream",
          "text": [
            "(28, 28)\n"
          ],
          "name": "stdout"
        }
      ]
    },
    {
      "cell_type": "code",
      "metadata": {
        "id": "owI75SpDO6s7",
        "colab_type": "code",
        "outputId": "79da1371-e5f9-44ee-e3e2-af8b7c90072d",
        "colab": {
          "base_uri": "https://localhost:8080/",
          "height": 34
        }
      },
      "source": [
        "# Add the image to a batch where it's the only member\n",
        "test_image_single = (np.expand_dims(test_image, 0))\n",
        "print(test_image_single.shape)"
      ],
      "execution_count": 0,
      "outputs": [
        {
          "output_type": "stream",
          "text": [
            "(1, 28, 28)\n"
          ],
          "name": "stdout"
        }
      ]
    },
    {
      "cell_type": "code",
      "metadata": {
        "id": "zTz4dMqjQRw0",
        "colab_type": "code",
        "outputId": "fe1873ca-b822-452d-ae3c-f5036456a796",
        "colab": {
          "base_uri": "https://localhost:8080/",
          "height": 51
        }
      },
      "source": [
        "predictions_single = model.predict(test_image_single)\n",
        "print(predictions_single)"
      ],
      "execution_count": 0,
      "outputs": [
        {
          "output_type": "stream",
          "text": [
            "[[2.9290156e-08 1.9359075e-10 7.1091300e-11 9.6712753e-13 8.8301960e-10\n",
            "  2.2591852e-02 8.7031733e-09 6.8206295e-02 1.9256468e-07 9.0920156e-01]]\n"
          ],
          "name": "stdout"
        }
      ]
    },
    {
      "cell_type": "code",
      "metadata": {
        "id": "9e2oW3-iQgjU",
        "colab_type": "code",
        "outputId": "c9c6653a-9d04-4ee7-b649-afce032f7313",
        "colab": {
          "base_uri": "https://localhost:8080/",
          "height": 300
        }
      },
      "source": [
        "plot_value_array(0, predictions_single, test_labels)\n",
        "_ = plt.xticks(range(10), class_names, rotation=45)"
      ],
      "execution_count": 0,
      "outputs": [
        {
          "output_type": "display_data",
          "data": {
            "image/png": "[encoded data removed]",
            "text/plain": [
              "<Figure size 432x288 with 1 Axes>"
            ]
          },
          "metadata": {
            "tags": []
          }
        }
      ]
    },
    {
      "cell_type": "code",
      "metadata": {
        "id": "DnB5hIuwQ51U",
        "colab_type": "code",
        "outputId": "fbef07fc-19e3-4e14-f116-055120a5183f",
        "colab": {
          "base_uri": "https://localhost:8080/",
          "height": 265
        }
      },
      "source": [
        "plt.imshow(test_image, cmap=plt.cm.binary)\n",
        "plt.grid(None)"
      ],
      "execution_count": 0,
      "outputs": [
        {
          "output_type": "display_data",
          "data": {
            "image/png": "[encoded data removed]",
            "text/plain": [
              "<Figure size 432x288 with 1 Axes>"
            ]
          },
          "metadata": {
            "tags": []
          }
        }
      ]
    },
    {
      "cell_type": "code",
      "metadata": {
        "id": "PHmmIC94RoTs",
        "colab_type": "code",
        "outputId": "7eefe97b-6cd4-4b40-f7da-3a4525c2a90c",
        "colab": {
          "base_uri": "https://localhost:8080/",
          "height": 34
        }
      },
      "source": [
        "np.argmax(predictions_single[0])"
      ],
      "execution_count": 0,
      "outputs": [
        {
          "output_type": "execute_result",
          "data": {
            "text/plain": [
              "9"
            ]
          },
          "metadata": {
            "tags": []
          },
          "execution_count": 144
        }
      ]
    },
    {
      "cell_type": "code",
      "metadata": {
        "id": "PS_usZ3vTCDs",
        "colab_type": "code",
        "outputId": "aa501f12-6b1c-42de-eb45-8f3122274662",
        "colab": {
          "base_uri": "https://localhost:8080/",
          "height": 34
        }
      },
      "source": [
        "test_labels[index]"
      ],
      "execution_count": 0,
      "outputs": [
        {
          "output_type": "execute_result",
          "data": {
            "text/plain": [
              "9"
            ]
          },
          "metadata": {
            "tags": []
          },
          "execution_count": 145
        }
      ]
    }
  ]
}