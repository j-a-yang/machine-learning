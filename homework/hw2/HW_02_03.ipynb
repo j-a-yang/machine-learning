{
  "nbformat": 4,
  "nbformat_minor": 0,
  "metadata": {
    "colab": {
      "name": "HW.02.03.ipynb",
      "provenance": [],
      "collapsed_sections": [
        "l34GNy7tyNks",
        "kUWqZDeqNOI7",
        "GMgGBuYYJvi1",
        "OA975wHjOJI-",
        "_LB68cK1vB6G",
        "KYWg9pzd4Pt1",
        "mORb9IwPP7oE",
        "GqbGdV6oXEyP"
      ]
    },
    "kernelspec": {
      "name": "python3",
      "display_name": "Python 3"
    },
    "accelerator": "GPU"
  },
  "cells": [
    {
      "cell_type": "markdown",
      "metadata": {
        "id": "rt44vyY1xW9b",
        "colab_type": "text"
      },
      "source": [
        "# Loading/Preparing MNIST fashion data set"
      ]
    },
    {
      "cell_type": "markdown",
      "metadata": {
        "id": "l34GNy7tyNks",
        "colab_type": "text"
      },
      "source": [
        "## Loading the MNIST fashion data set"
      ]
    },
    {
      "cell_type": "code",
      "metadata": {
        "id": "FSJyddqGexl5",
        "colab_type": "code",
        "outputId": "75e7156b-a1a0-4ccb-9ae4-f8e775426132",
        "colab": {
          "base_uri": "https://localhost:8080/",
          "height": 97
        }
      },
      "source": [
        "import tensorflow as tf\n",
        "from tensorflow import keras\n",
        "\n",
        "cifar10 = keras.datasets.cifar10\n",
        "\n",
        "(train_images, train_labels), (test_images, test_labels) = cifar10.load_data()"
      ],
      "execution_count": 0,
      "outputs": [
        {
          "output_type": "display_data",
          "data": {
            "text/html": [
              "<p style=\"color: red;\">\n",
              "The default version of TensorFlow in Colab will soon switch to TensorFlow 2.x.<br>\n",
              "We recommend you <a href=\"https://www.tensorflow.org/guide/migrate\" target=\"_blank\">upgrade</a> now \n",
              "or ensure your notebook will continue to use TensorFlow 1.x via the <code>%tensorflow_version 1.x</code> magic:\n",
              "<a href=\"https://colab.research.google.com/notebooks/tensorflow_version.ipynb\" target=\"_blank\">more info</a>.</p>\n"
            ],
            "text/plain": [
              "<IPython.core.display.HTML object>"
            ]
          },
          "metadata": {
            "tags": []
          }
        },
        {
          "output_type": "stream",
          "text": [
            "Downloading data from https://www.cs.toronto.edu/~kriz/cifar-10-python.tar.gz\n",
            "170500096/170498071 [==============================] - 11s 0us/step\n"
          ],
          "name": "stdout"
        }
      ]
    },
    {
      "cell_type": "markdown",
      "metadata": {
        "id": "JC5iBT_0OCSl",
        "colab_type": "text"
      },
      "source": [
        "## Preprocess the data"
      ]
    },
    {
      "cell_type": "code",
      "metadata": {
        "id": "inugSPsZNytV",
        "colab_type": "code",
        "colab": {}
      },
      "source": [
        "train_images = train_images.reshape((50000, 32, 32, 3)) / 255.0\n",
        "test_images = test_images.reshape((10000, 32, 32, 3)) / 255.0"
      ],
      "execution_count": 0,
      "outputs": []
    },
    {
      "cell_type": "markdown",
      "metadata": {
        "id": "kUWqZDeqNOI7",
        "colab_type": "text"
      },
      "source": [
        "#Model #1: Overfitting"
      ]
    },
    {
      "cell_type": "markdown",
      "metadata": {
        "id": "-ro9jEX5P7kY",
        "colab_type": "text"
      },
      "source": [
        "At first, I used a model with one hidden layer containing a single neuron.  This was giving my test accuracy of less then 0.5, which is bad.  I added just one more neuron to the hidden layer and drastically improved my accuracy to over 70%."
      ]
    },
    {
      "cell_type": "markdown",
      "metadata": {
        "id": "HmEDLZjANf5H",
        "colab_type": "text"
      },
      "source": [
        "## Build the model"
      ]
    },
    {
      "cell_type": "code",
      "metadata": {
        "id": "UxHes0R6NNCZ",
        "colab_type": "code",
        "outputId": "c0d0d479-af53-4d48-952d-5a20a2f9d424",
        "colab": {
          "base_uri": "https://localhost:8080/",
          "height": 496
        }
      },
      "source": [
        "# set up the layers\n",
        "\n",
        "model = keras.Sequential([\n",
        "      keras.layers.Conv2D(32, (3, 3), activation='relu', input_shape=(32, 32, 3)),\n",
        "      keras.layers.MaxPooling2D((2, 2)),\n",
        "      #\n",
        "      keras.layers.Conv2D(64, (3, 3), activation='relu'),\n",
        "      keras.layers.MaxPooling2D((2, 2)),\n",
        "      #\n",
        "      keras.layers.Conv2D(64, (3, 3), activation='relu'),\n",
        "      #\n",
        "      keras.layers.Flatten(),\n",
        "      keras.layers.Dense(64, activation='relu'),\n",
        "      keras.layers.Dense(10, activation='softmax')\n",
        "  ])\n",
        "model.summary()"
      ],
      "execution_count": 0,
      "outputs": [
        {
          "output_type": "stream",
          "text": [
            "WARNING:tensorflow:From /usr/local/lib/python3.6/dist-packages/tensorflow_core/python/ops/resource_variable_ops.py:1630: calling BaseResourceVariable.__init__ (from tensorflow.python.ops.resource_variable_ops) with constraint is deprecated and will be removed in a future version.\n",
            "Instructions for updating:\n",
            "If using Keras pass *_constraint arguments to layers.\n",
            "Model: \"sequential\"\n",
            "_________________________________________________________________\n",
            "Layer (type)                 Output Shape              Param #   \n",
            "=================================================================\n",
            "conv2d (Conv2D)              (None, 30, 30, 32)        896       \n",
            "_________________________________________________________________\n",
            "max_pooling2d (MaxPooling2D) (None, 15, 15, 32)        0         \n",
            "_________________________________________________________________\n",
            "conv2d_1 (Conv2D)            (None, 13, 13, 64)        18496     \n",
            "_________________________________________________________________\n",
            "max_pooling2d_1 (MaxPooling2 (None, 6, 6, 64)          0         \n",
            "_________________________________________________________________\n",
            "conv2d_2 (Conv2D)            (None, 4, 4, 64)          36928     \n",
            "_________________________________________________________________\n",
            "flatten (Flatten)            (None, 1024)              0         \n",
            "_________________________________________________________________\n",
            "dense (Dense)                (None, 64)                65600     \n",
            "_________________________________________________________________\n",
            "dense_1 (Dense)              (None, 10)                650       \n",
            "=================================================================\n",
            "Total params: 122,570\n",
            "Trainable params: 122,570\n",
            "Non-trainable params: 0\n",
            "_________________________________________________________________\n"
          ],
          "name": "stdout"
        }
      ]
    },
    {
      "cell_type": "markdown",
      "metadata": {
        "id": "f6NDeCJd4aBH",
        "colab_type": "text"
      },
      "source": [
        "##Compile and train the model"
      ]
    },
    {
      "cell_type": "code",
      "metadata": {
        "id": "kqf6R_-54fp0",
        "colab_type": "code",
        "outputId": "72ff1058-44a6-4b0a-f291-376e3bdb33cb",
        "colab": {
          "base_uri": "https://localhost:8080/",
          "height": 714
        }
      },
      "source": [
        "# compile the model\n",
        "\n",
        "model.compile(optimizer='adam',\n",
        "             loss='sparse_categorical_crossentropy',\n",
        "             metrics=['accuracy'])\n",
        "\n",
        "# train the model\n",
        "epochs = 20\n",
        "history = model.fit(train_images, \n",
        "                      train_labels, \n",
        "                      epochs=epochs,  \n",
        "                      validation_data=(test_images, test_labels))"
      ],
      "execution_count": 0,
      "outputs": [
        {
          "output_type": "stream",
          "text": [
            "Train on 50000 samples, validate on 10000 samples\n",
            "Epoch 1/20\n",
            "50000/50000 [==============================] - 15s 302us/sample - loss: 1.5204 - acc: 0.4468 - val_loss: 1.2194 - val_acc: 0.5587\n",
            "Epoch 2/20\n",
            "50000/50000 [==============================] - 12s 237us/sample - loss: 1.1491 - acc: 0.5944 - val_loss: 1.0993 - val_acc: 0.6117\n",
            "Epoch 3/20\n",
            "50000/50000 [==============================] - 12s 238us/sample - loss: 0.9931 - acc: 0.6514 - val_loss: 1.0332 - val_acc: 0.6381\n",
            "Epoch 4/20\n",
            "50000/50000 [==============================] - 12s 237us/sample - loss: 0.8971 - acc: 0.6862 - val_loss: 0.9877 - val_acc: 0.6617\n",
            "Epoch 5/20\n",
            "50000/50000 [==============================] - 12s 237us/sample - loss: 0.8258 - acc: 0.7107 - val_loss: 0.8789 - val_acc: 0.6947\n",
            "Epoch 6/20\n",
            "50000/50000 [==============================] - 12s 238us/sample - loss: 0.7688 - acc: 0.7320 - val_loss: 0.8709 - val_acc: 0.7018\n",
            "Epoch 7/20\n",
            "50000/50000 [==============================] - 12s 236us/sample - loss: 0.7202 - acc: 0.7487 - val_loss: 0.8539 - val_acc: 0.7059\n",
            "Epoch 8/20\n",
            "50000/50000 [==============================] - 12s 238us/sample - loss: 0.6773 - acc: 0.7626 - val_loss: 0.8902 - val_acc: 0.7081\n",
            "Epoch 9/20\n",
            "50000/50000 [==============================] - 12s 235us/sample - loss: 0.6375 - acc: 0.7777 - val_loss: 0.8637 - val_acc: 0.7170\n",
            "Epoch 10/20\n",
            "50000/50000 [==============================] - 12s 237us/sample - loss: 0.6009 - acc: 0.7886 - val_loss: 0.9084 - val_acc: 0.7032\n",
            "Epoch 11/20\n",
            "50000/50000 [==============================] - 12s 239us/sample - loss: 0.5688 - acc: 0.7995 - val_loss: 0.9165 - val_acc: 0.7024\n",
            "Epoch 12/20\n",
            "50000/50000 [==============================] - 12s 240us/sample - loss: 0.5337 - acc: 0.8119 - val_loss: 0.8969 - val_acc: 0.7094\n",
            "Epoch 13/20\n",
            "50000/50000 [==============================] - 12s 237us/sample - loss: 0.5017 - acc: 0.8238 - val_loss: 0.9029 - val_acc: 0.7170\n",
            "Epoch 14/20\n",
            "50000/50000 [==============================] - 12s 237us/sample - loss: 0.4695 - acc: 0.8340 - val_loss: 0.9775 - val_acc: 0.7066\n",
            "Epoch 15/20\n",
            "50000/50000 [==============================] - 12s 235us/sample - loss: 0.4419 - acc: 0.8431 - val_loss: 0.9544 - val_acc: 0.7106\n",
            "Epoch 16/20\n",
            "50000/50000 [==============================] - 12s 236us/sample - loss: 0.4186 - acc: 0.8505 - val_loss: 1.0057 - val_acc: 0.7057\n",
            "Epoch 17/20\n",
            "50000/50000 [==============================] - 12s 235us/sample - loss: 0.3870 - acc: 0.8624 - val_loss: 1.0954 - val_acc: 0.6980\n",
            "Epoch 18/20\n",
            "50000/50000 [==============================] - 12s 235us/sample - loss: 0.3665 - acc: 0.8693 - val_loss: 1.0646 - val_acc: 0.7078\n",
            "Epoch 19/20\n",
            "50000/50000 [==============================] - 12s 235us/sample - loss: 0.3372 - acc: 0.8809 - val_loss: 1.1384 - val_acc: 0.7074\n",
            "Epoch 20/20\n",
            "50000/50000 [==============================] - 12s 237us/sample - loss: 0.3166 - acc: 0.8865 - val_loss: 1.1963 - val_acc: 0.7020\n"
          ],
          "name": "stdout"
        }
      ]
    },
    {
      "cell_type": "markdown",
      "metadata": {
        "id": "SWt0CiSGNp4o",
        "colab_type": "text"
      },
      "source": [
        "## Evaluate accuracy"
      ]
    },
    {
      "cell_type": "code",
      "metadata": {
        "id": "lSeeUL0zNrC7",
        "colab_type": "code",
        "outputId": "1ad29f17-2310-451f-9415-87d55795cf26",
        "colab": {
          "base_uri": "https://localhost:8080/",
          "height": 51
        }
      },
      "source": [
        "test_loss, test_acc = model.evaluate(test_images, test_labels)\n",
        "\n",
        "print('Test accuracy:', test_acc)"
      ],
      "execution_count": 0,
      "outputs": [
        {
          "output_type": "stream",
          "text": [
            "10000/10000 [==============================] - 1s 117us/sample - loss: 1.1963 - acc: 0.7020\n",
            "Test accuracy: 0.702\n"
          ],
          "name": "stdout"
        }
      ]
    },
    {
      "cell_type": "markdown",
      "metadata": {
        "id": "lIyA3vc9NtyF",
        "colab_type": "text"
      },
      "source": [
        "## Training/test loss/accuracy during training"
      ]
    },
    {
      "cell_type": "code",
      "metadata": {
        "id": "IlykcoMTNxcQ",
        "colab_type": "code",
        "colab": {}
      },
      "source": [
        "history_dict = history.history\n",
        "loss_values = history_dict['loss']\n",
        "test_loss_values = history_dict['val_loss']\n",
        "epochs_range = range(1, epochs+1)"
      ],
      "execution_count": 0,
      "outputs": []
    },
    {
      "cell_type": "code",
      "metadata": {
        "id": "9-LS3jyS7QLh",
        "colab_type": "code",
        "colab": {}
      },
      "source": [
        "import matplotlib.pyplot as plt\n",
        "import numpy as np"
      ],
      "execution_count": 0,
      "outputs": []
    },
    {
      "cell_type": "code",
      "metadata": {
        "id": "sjUs9SUtN1Fq",
        "colab_type": "code",
        "outputId": "dd47329e-67db-4f06-d774-6dc874d20687",
        "colab": {
          "base_uri": "https://localhost:8080/",
          "height": 295
        }
      },
      "source": [
        "plt.plot(epochs_range, loss_values, 'bo', label='Training loss')\n",
        "plt.plot(epochs_range, test_loss_values, 'ro', label='Test loss')\n",
        "plt.title('Training and test loss')\n",
        "plt.xlabel('Epochs')\n",
        "plt.ylabel('Loss')\n",
        "plt.legend()\n",
        "plt.show()"
      ],
      "execution_count": 0,
      "outputs": [
        {
          "output_type": "display_data",
          "data": {
            "image/png": "[encoded data removed]",
            "text/plain": [
              "<Figure size 432x288 with 1 Axes>"
            ]
          },
          "metadata": {
            "tags": []
          }
        }
      ]
    },
    {
      "cell_type": "code",
      "metadata": {
        "id": "qxcok2oKN5w3",
        "colab_type": "code",
        "colab": {}
      },
      "source": [
        "acc_values = history_dict['acc']\n",
        "test_acc_values = history_dict['val_acc']"
      ],
      "execution_count": 0,
      "outputs": []
    },
    {
      "cell_type": "code",
      "metadata": {
        "id": "REBxxV59N8jd",
        "colab_type": "code",
        "outputId": "88ca2132-46c0-42dc-9029-80a46300a4ba",
        "colab": {
          "base_uri": "https://localhost:8080/",
          "height": 295
        }
      },
      "source": [
        "plt.plot(epochs_range, acc_values, 'bo', label='Training accuracy')\n",
        "plt.plot(epochs_range, test_acc_values, 'ro', label='Test accuracy')\n",
        "plt.title('Training and test accuracy')\n",
        "plt.xlabel('Epochs')\n",
        "plt.ylabel('Accuracy')\n",
        "plt.legend()\n",
        "plt.show()"
      ],
      "execution_count": 0,
      "outputs": [
        {
          "output_type": "display_data",
          "data": {
            "image/png": "[encoded data removed]",
            "text/plain": [
              "<Figure size 432x288 with 1 Axes>"
            ]
          },
          "metadata": {
            "tags": []
          }
        }
      ]
    },
    {
      "cell_type": "markdown",
      "metadata": {
        "id": "m3ZYasC2Jh3w",
        "colab_type": "text"
      },
      "source": [
        ""
      ]
    },
    {
      "cell_type": "code",
      "metadata": {
        "id": "8Ic2KENeJkVW",
        "colab_type": "code",
        "colab": {}
      },
      "source": [
        ""
      ],
      "execution_count": 0,
      "outputs": []
    },
    {
      "cell_type": "markdown",
      "metadata": {
        "colab_type": "text",
        "id": "GMgGBuYYJvi1"
      },
      "source": [
        "#Model #2: Uderfitting"
      ]
    },
    {
      "cell_type": "markdown",
      "metadata": {
        "colab_type": "text",
        "id": "l4Y2CobUJvi4"
      },
      "source": [
        ""
      ]
    },
    {
      "cell_type": "markdown",
      "metadata": {
        "colab_type": "text",
        "id": "EhVQiVcSJvi5"
      },
      "source": [
        "## Build the model"
      ]
    },
    {
      "cell_type": "code",
      "metadata": {
        "colab_type": "code",
        "outputId": "308720ee-acc9-4925-cae2-509d48e38a4f",
        "id": "dsqZWOrzJvi5",
        "colab": {
          "base_uri": "https://localhost:8080/",
          "height": 323
        }
      },
      "source": [
        "# set up the layers\n",
        "\n",
        "model = keras.Sequential([\n",
        "      keras.layers.Conv2D(32, (3, 3), activation='relu', input_shape=(32, 32, 3)),\n",
        "      keras.layers.MaxPooling2D((2, 2)),\n",
        "      #\n",
        "      # keras.layers.Conv2D(64, (3, 3), activation='relu'),\n",
        "      # keras.layers.MaxPooling2D((2, 2)),\n",
        "      # #\n",
        "      # keras.layers.Conv2D(64, (3, 3), activation='relu'),\n",
        "      # keras.layers.MaxPooling2D((2, 2)),\n",
        "      #\n",
        "      keras.layers.Flatten(),\n",
        "      keras.layers.Dense(10, activation='relu'),\n",
        "      keras.layers.Dense(10, activation='softmax')\n",
        "  ])\n",
        "model.summary()"
      ],
      "execution_count": 0,
      "outputs": [
        {
          "output_type": "stream",
          "text": [
            "Model: \"sequential_1\"\n",
            "_________________________________________________________________\n",
            "Layer (type)                 Output Shape              Param #   \n",
            "=================================================================\n",
            "conv2d_3 (Conv2D)            (None, 30, 30, 32)        896       \n",
            "_________________________________________________________________\n",
            "max_pooling2d_2 (MaxPooling2 (None, 15, 15, 32)        0         \n",
            "_________________________________________________________________\n",
            "flatten_1 (Flatten)          (None, 7200)              0         \n",
            "_________________________________________________________________\n",
            "dense_2 (Dense)              (None, 10)                72010     \n",
            "_________________________________________________________________\n",
            "dense_3 (Dense)              (None, 10)                110       \n",
            "=================================================================\n",
            "Total params: 73,016\n",
            "Trainable params: 73,016\n",
            "Non-trainable params: 0\n",
            "_________________________________________________________________\n"
          ],
          "name": "stdout"
        }
      ]
    },
    {
      "cell_type": "markdown",
      "metadata": {
        "colab_type": "text",
        "id": "Qf_or8-1Jvi9"
      },
      "source": [
        "##Compile and train the model"
      ]
    },
    {
      "cell_type": "code",
      "metadata": {
        "colab_type": "code",
        "outputId": "8341e2a0-39d1-4b20-e0b2-a71f04b982da",
        "id": "Irb7qxeDJvi-",
        "colab": {
          "base_uri": "https://localhost:8080/",
          "height": 374
        }
      },
      "source": [
        "# compile the model\n",
        "\n",
        "model.compile(optimizer='adam',\n",
        "             loss='sparse_categorical_crossentropy',\n",
        "             metrics=['accuracy'])\n",
        "\n",
        "# train the model\n",
        "epochs = 10\n",
        "history = model.fit(train_images, \n",
        "                      train_labels, \n",
        "                      epochs=epochs,  \n",
        "                      validation_data=(test_images, test_labels))"
      ],
      "execution_count": 0,
      "outputs": [
        {
          "output_type": "stream",
          "text": [
            "Train on 50000 samples, validate on 10000 samples\n",
            "Epoch 1/10\n",
            "50000/50000 [==============================] - 9s 173us/sample - loss: 1.9233 - acc: 0.2583 - val_loss: 1.7513 - val_acc: 0.2995\n",
            "Epoch 2/10\n",
            "50000/50000 [==============================] - 9s 173us/sample - loss: 1.7033 - acc: 0.3180 - val_loss: 1.6871 - val_acc: 0.3287\n",
            "Epoch 3/10\n",
            "50000/50000 [==============================] - 9s 172us/sample - loss: 1.6462 - acc: 0.3351 - val_loss: 1.6517 - val_acc: 0.3373\n",
            "Epoch 4/10\n",
            "50000/50000 [==============================] - 9s 173us/sample - loss: 1.5839 - acc: 0.3666 - val_loss: 1.5271 - val_acc: 0.4095\n",
            "Epoch 5/10\n",
            "50000/50000 [==============================] - 9s 172us/sample - loss: 1.4965 - acc: 0.4109 - val_loss: 1.5066 - val_acc: 0.4044\n",
            "Epoch 6/10\n",
            "50000/50000 [==============================] - 8s 170us/sample - loss: 1.4554 - acc: 0.4301 - val_loss: 1.4621 - val_acc: 0.4387\n",
            "Epoch 7/10\n",
            "50000/50000 [==============================] - 9s 174us/sample - loss: 1.4288 - acc: 0.4409 - val_loss: 1.4780 - val_acc: 0.4302\n",
            "Epoch 8/10\n",
            "50000/50000 [==============================] - 8s 169us/sample - loss: 1.3984 - acc: 0.4523 - val_loss: 1.4463 - val_acc: 0.4434\n",
            "Epoch 9/10\n",
            "50000/50000 [==============================] - 8s 169us/sample - loss: 1.3754 - acc: 0.4645 - val_loss: 1.4213 - val_acc: 0.4548\n",
            "Epoch 10/10\n",
            "50000/50000 [==============================] - 9s 171us/sample - loss: 1.3548 - acc: 0.4727 - val_loss: 1.4422 - val_acc: 0.4510\n"
          ],
          "name": "stdout"
        }
      ]
    },
    {
      "cell_type": "markdown",
      "metadata": {
        "colab_type": "text",
        "id": "PORRplcUJvjA"
      },
      "source": [
        "## Evaluate accuracy"
      ]
    },
    {
      "cell_type": "code",
      "metadata": {
        "colab_type": "code",
        "outputId": "9f33e508-61e2-415b-c32b-e77c4034a241",
        "id": "Khq_-eswJvjB",
        "colab": {
          "base_uri": "https://localhost:8080/",
          "height": 51
        }
      },
      "source": [
        "test_loss, test_acc = model.evaluate(test_images, test_labels)\n",
        "\n",
        "print('Test accuracy:', test_acc)"
      ],
      "execution_count": 0,
      "outputs": [
        {
          "output_type": "stream",
          "text": [
            "10000/10000 [==============================] - 1s 96us/sample - loss: 1.4422 - acc: 0.4510\n",
            "Test accuracy: 0.451\n"
          ],
          "name": "stdout"
        }
      ]
    },
    {
      "cell_type": "markdown",
      "metadata": {
        "colab_type": "text",
        "id": "F67atmRQJvjD"
      },
      "source": [
        "## Training/test loss/accuracy during training"
      ]
    },
    {
      "cell_type": "code",
      "metadata": {
        "colab_type": "code",
        "id": "9rlLdeEIJvjD",
        "colab": {}
      },
      "source": [
        "history_dict = history.history\n",
        "loss_values = history_dict['loss']\n",
        "test_loss_values = history_dict['val_loss']\n",
        "epochs_range = range(1, epochs+1)"
      ],
      "execution_count": 0,
      "outputs": []
    },
    {
      "cell_type": "code",
      "metadata": {
        "colab_type": "code",
        "id": "3UYyZC4uJvjF",
        "colab": {}
      },
      "source": [
        "import matplotlib.pyplot as plt\n",
        "import numpy as np"
      ],
      "execution_count": 0,
      "outputs": []
    },
    {
      "cell_type": "code",
      "metadata": {
        "colab_type": "code",
        "outputId": "8be2b41f-7828-4492-88ba-9aa1e0ace611",
        "id": "6LX896BEJvjI",
        "colab": {
          "base_uri": "https://localhost:8080/",
          "height": 295
        }
      },
      "source": [
        "plt.plot(epochs_range, loss_values, 'bo', label='Training loss')\n",
        "plt.plot(epochs_range, test_loss_values, 'ro', label='Test loss')\n",
        "plt.title('Training and test loss')\n",
        "plt.xlabel('Epochs')\n",
        "plt.ylabel('Loss')\n",
        "plt.legend()\n",
        "plt.show()"
      ],
      "execution_count": 0,
      "outputs": [
        {
          "output_type": "display_data",
          "data": {
            "image/png": "[encoded data removed]",
            "text/plain": [
              "<Figure size 432x288 with 1 Axes>"
            ]
          },
          "metadata": {
            "tags": []
          }
        }
      ]
    },
    {
      "cell_type": "code",
      "metadata": {
        "colab_type": "code",
        "id": "LcvFDYl8JvjK",
        "colab": {}
      },
      "source": [
        "acc_values = history_dict['acc']\n",
        "test_acc_values = history_dict['val_acc']"
      ],
      "execution_count": 0,
      "outputs": []
    },
    {
      "cell_type": "code",
      "metadata": {
        "colab_type": "code",
        "outputId": "435dd32e-8e25-44d9-c678-2346ebab5398",
        "id": "4QnRYJx6JvjM",
        "colab": {
          "base_uri": "https://localhost:8080/",
          "height": 295
        }
      },
      "source": [
        "plt.plot(epochs_range, acc_values, 'bo', label='Training accuracy')\n",
        "plt.plot(epochs_range, test_acc_values, 'ro', label='Test accuracy')\n",
        "plt.title('Training and test accuracy')\n",
        "plt.xlabel('Epochs')\n",
        "plt.ylabel('Accuracy')\n",
        "plt.legend()\n",
        "plt.show()"
      ],
      "execution_count": 0,
      "outputs": [
        {
          "output_type": "display_data",
          "data": {
            "image/png": "[encoded data removed]",
            "text/plain": [
              "<Figure size 432x288 with 1 Axes>"
            ]
          },
          "metadata": {
            "tags": []
          }
        }
      ]
    },
    {
      "cell_type": "markdown",
      "metadata": {
        "id": "OA975wHjOJI-",
        "colab_type": "text"
      },
      "source": [
        "# Model #3: Pretty Good Fit"
      ]
    },
    {
      "cell_type": "markdown",
      "metadata": {
        "id": "MAXAZwHT-_7d",
        "colab_type": "text"
      },
      "source": [
        "I tried to implement data augmentation but I couldn't quite get it to work properly.  At the moment, the model is overfitting.  I think I can combat this with proper implementation of data augmentation but had a lot of trouble doing it.  Since I was having a lot of errors and my results seemed to be erroneous using augmentation, I present here the model without data augmentation, and only dropout.  You can choose to run with data augmentation if you would like to see."
      ]
    },
    {
      "cell_type": "markdown",
      "metadata": {
        "id": "_LB68cK1vB6G",
        "colab_type": "text"
      },
      "source": [
        "## Import a few extra goodies"
      ]
    },
    {
      "cell_type": "code",
      "metadata": {
        "id": "5pVid1bdvIv5",
        "colab_type": "code",
        "outputId": "717de867-c0a2-4249-aa50-834d90d6cebd",
        "colab": {
          "base_uri": "https://localhost:8080/",
          "height": 34
        }
      },
      "source": [
        "from keras.preprocessing.image import ImageDataGenerator"
      ],
      "execution_count": 0,
      "outputs": [
        {
          "output_type": "stream",
          "text": [
            "Using TensorFlow backend.\n"
          ],
          "name": "stderr"
        }
      ]
    },
    {
      "cell_type": "markdown",
      "metadata": {
        "id": "KYWg9pzd4Pt1",
        "colab_type": "text"
      },
      "source": [
        "## Build the model"
      ]
    },
    {
      "cell_type": "code",
      "metadata": {
        "id": "ZX6SGTpMOIKN",
        "colab_type": "code",
        "outputId": "de218e95-e77a-4529-d5e0-25299414e6ab",
        "colab": {
          "base_uri": "https://localhost:8080/",
          "height": 1000
        }
      },
      "source": [
        "# Configure the model\n",
        "batch_size = 32\n",
        "#num_classes = 10\n",
        "epochs = 30\n",
        "data_augmentation = False\n",
        "#num_predictions = 20\n",
        "\n",
        "# set up the layers\n",
        "model = keras.Sequential([\n",
        "    keras.layers.Conv2D(16, (3, 3), activation='relu', input_shape=(32, 32, 3)),\n",
        "    keras.layers.MaxPooling2D((2, 2)),\n",
        "    #\n",
        "    keras.layers.Conv2D(32, (3, 3), activation='relu'),\n",
        "    keras.layers.MaxPooling2D((2, 2)),\n",
        "    #\n",
        "    keras.layers.Conv2D(64, (3, 3), activation='relu'),\n",
        "    keras.layers.MaxPooling2D((2, 2)),\n",
        "    #\n",
        "    keras.layers.Flatten(),\n",
        "    keras.layers.Dense(512, activation='relu'),\n",
        "    keras.layers.Dropout(0.5),\n",
        "    keras.layers.Dense(10, activation='softmax')\n",
        "])\n",
        "model.summary()\n",
        "\n",
        "# compile the model\n",
        "\n",
        "model.compile(optimizer='adam',\n",
        "             loss='sparse_categorical_crossentropy',\n",
        "             metrics=['accuracy'])\n",
        "\n",
        "# train the model\n",
        "\n",
        "if not data_augmentation:\n",
        "    print('Not using data augmentation.')\n",
        "    history = model.fit(train_images,\n",
        "                train_labels,\n",
        "                batch_size=batch_size,\n",
        "                epochs=epochs,\n",
        "                validation_data=(test_images, test_labels))\n",
        "else:\n",
        "  print('Using real-time data augmentation.')\n",
        "  train_datagen = ImageDataGenerator(\n",
        "    rescale=1./255, ## already rescaled when importing data set.\n",
        "    rotation_range=40,\n",
        "    width_shift_range=0.2,\n",
        "    height_shift_range=0.2,\n",
        "    shear_range=0.2,\n",
        "    zoom_range=0.2,\n",
        "    horizontal_flip=True,)\n",
        "\n",
        "  #test_datagen = ImageDataGenerator(rescale=1./255)\n",
        "  train_datagen.fit(train_images)\n",
        "\n",
        "  train_generator = train_datagen.flow(\n",
        "    train_images,\n",
        "    train_labels,\n",
        "    #target_size=(32, 32),\n",
        "    batch_size = batch_size)\n",
        "\n",
        "  history = model.fit_generator(\n",
        "      train_generator,\n",
        "      epochs=epochs,\n",
        "      validation_data=(test_images, test_labels))"
      ],
      "execution_count": 0,
      "outputs": [
        {
          "output_type": "stream",
          "text": [
            "Model: \"sequential_5\"\n",
            "_________________________________________________________________\n",
            "Layer (type)                 Output Shape              Param #   \n",
            "=================================================================\n",
            "conv2d_13 (Conv2D)           (None, 30, 30, 16)        448       \n",
            "_________________________________________________________________\n",
            "max_pooling2d_12 (MaxPooling (None, 15, 15, 16)        0         \n",
            "_________________________________________________________________\n",
            "conv2d_14 (Conv2D)           (None, 13, 13, 32)        4640      \n",
            "_________________________________________________________________\n",
            "max_pooling2d_13 (MaxPooling (None, 6, 6, 32)          0         \n",
            "_________________________________________________________________\n",
            "conv2d_15 (Conv2D)           (None, 4, 4, 64)          18496     \n",
            "_________________________________________________________________\n",
            "max_pooling2d_14 (MaxPooling (None, 2, 2, 64)          0         \n",
            "_________________________________________________________________\n",
            "flatten_5 (Flatten)          (None, 256)               0         \n",
            "_________________________________________________________________\n",
            "dense_10 (Dense)             (None, 512)               131584    \n",
            "_________________________________________________________________\n",
            "dropout_3 (Dropout)          (None, 512)               0         \n",
            "_________________________________________________________________\n",
            "dense_11 (Dense)             (None, 10)                5130      \n",
            "=================================================================\n",
            "Total params: 160,298\n",
            "Trainable params: 160,298\n",
            "Non-trainable params: 0\n",
            "_________________________________________________________________\n",
            "Not using data augmentation.\n",
            "Train on 50000 samples, validate on 10000 samples\n",
            "Epoch 1/30\n",
            "50000/50000 [==============================] - 11s 225us/sample - loss: 1.5938 - acc: 0.4149 - val_loss: 1.2834 - val_acc: 0.5425\n",
            "Epoch 2/30\n",
            "50000/50000 [==============================] - 11s 221us/sample - loss: 1.2520 - acc: 0.5538 - val_loss: 1.1547 - val_acc: 0.5839\n",
            "Epoch 3/30\n",
            "50000/50000 [==============================] - 11s 219us/sample - loss: 1.1062 - acc: 0.6087 - val_loss: 1.0349 - val_acc: 0.6331\n",
            "Epoch 4/30\n",
            "50000/50000 [==============================] - 11s 221us/sample - loss: 1.0114 - acc: 0.6419 - val_loss: 1.0016 - val_acc: 0.6459\n",
            "Epoch 5/30\n",
            "50000/50000 [==============================] - 11s 222us/sample - loss: 0.9355 - acc: 0.6692 - val_loss: 0.9459 - val_acc: 0.6629\n",
            "Epoch 6/30\n",
            "50000/50000 [==============================] - 11s 222us/sample - loss: 0.8760 - acc: 0.6918 - val_loss: 0.9277 - val_acc: 0.6745\n",
            "Epoch 7/30\n",
            "50000/50000 [==============================] - 11s 224us/sample - loss: 0.8283 - acc: 0.7096 - val_loss: 0.9457 - val_acc: 0.6763\n",
            "Epoch 8/30\n",
            "50000/50000 [==============================] - 11s 222us/sample - loss: 0.7868 - acc: 0.7234 - val_loss: 0.9240 - val_acc: 0.6821\n",
            "Epoch 9/30\n",
            "50000/50000 [==============================] - 11s 222us/sample - loss: 0.7564 - acc: 0.7323 - val_loss: 0.8679 - val_acc: 0.6992\n",
            "Epoch 10/30\n",
            "50000/50000 [==============================] - 11s 219us/sample - loss: 0.7281 - acc: 0.7419 - val_loss: 0.8717 - val_acc: 0.7030\n",
            "Epoch 11/30\n",
            "50000/50000 [==============================] - 11s 224us/sample - loss: 0.7029 - acc: 0.7522 - val_loss: 0.8516 - val_acc: 0.7055\n",
            "Epoch 12/30\n",
            "50000/50000 [==============================] - 11s 223us/sample - loss: 0.6706 - acc: 0.7635 - val_loss: 0.8552 - val_acc: 0.7100\n",
            "Epoch 13/30\n",
            "50000/50000 [==============================] - 11s 228us/sample - loss: 0.6509 - acc: 0.7692 - val_loss: 0.8856 - val_acc: 0.7045\n",
            "Epoch 14/30\n",
            "50000/50000 [==============================] - 11s 226us/sample - loss: 0.6260 - acc: 0.7779 - val_loss: 0.8984 - val_acc: 0.7066\n",
            "Epoch 15/30\n",
            "50000/50000 [==============================] - 11s 222us/sample - loss: 0.6099 - acc: 0.7836 - val_loss: 0.8958 - val_acc: 0.7141\n",
            "Epoch 16/30\n",
            "50000/50000 [==============================] - 11s 223us/sample - loss: 0.5894 - acc: 0.7885 - val_loss: 0.8730 - val_acc: 0.7168\n",
            "Epoch 17/30\n",
            "50000/50000 [==============================] - 11s 222us/sample - loss: 0.5796 - acc: 0.7919 - val_loss: 0.8951 - val_acc: 0.7145\n",
            "Epoch 18/30\n",
            "50000/50000 [==============================] - 11s 222us/sample - loss: 0.5626 - acc: 0.7993 - val_loss: 0.9114 - val_acc: 0.7086\n",
            "Epoch 19/30\n",
            "50000/50000 [==============================] - 11s 221us/sample - loss: 0.5414 - acc: 0.8062 - val_loss: 0.9557 - val_acc: 0.7026\n",
            "Epoch 20/30\n",
            "50000/50000 [==============================] - 11s 223us/sample - loss: 0.5315 - acc: 0.8089 - val_loss: 0.9442 - val_acc: 0.7114\n",
            "Epoch 21/30\n",
            "50000/50000 [==============================] - 11s 223us/sample - loss: 0.5200 - acc: 0.8141 - val_loss: 0.9470 - val_acc: 0.7122\n",
            "Epoch 22/30\n",
            "50000/50000 [==============================] - 11s 222us/sample - loss: 0.5111 - acc: 0.8166 - val_loss: 0.9010 - val_acc: 0.7195\n",
            "Epoch 23/30\n",
            "50000/50000 [==============================] - 11s 223us/sample - loss: 0.5002 - acc: 0.8196 - val_loss: 0.9646 - val_acc: 0.7080\n",
            "Epoch 24/30\n",
            "50000/50000 [==============================] - 11s 223us/sample - loss: 0.4858 - acc: 0.8235 - val_loss: 0.9964 - val_acc: 0.7155\n",
            "Epoch 25/30\n",
            "50000/50000 [==============================] - 11s 226us/sample - loss: 0.4756 - acc: 0.8280 - val_loss: 0.9887 - val_acc: 0.7142\n",
            "Epoch 26/30\n",
            "50000/50000 [==============================] - 11s 224us/sample - loss: 0.4668 - acc: 0.8326 - val_loss: 0.9974 - val_acc: 0.7170\n",
            "Epoch 27/30\n",
            "50000/50000 [==============================] - 11s 222us/sample - loss: 0.4553 - acc: 0.8356 - val_loss: 1.0229 - val_acc: 0.7100\n",
            "Epoch 28/30\n",
            "50000/50000 [==============================] - 11s 222us/sample - loss: 0.4509 - acc: 0.8360 - val_loss: 1.0463 - val_acc: 0.7098\n",
            "Epoch 29/30\n",
            "50000/50000 [==============================] - 11s 223us/sample - loss: 0.4461 - acc: 0.8385 - val_loss: 1.0067 - val_acc: 0.7126\n",
            "Epoch 30/30\n",
            "50000/50000 [==============================] - 11s 223us/sample - loss: 0.4373 - acc: 0.8413 - val_loss: 1.0476 - val_acc: 0.7149\n"
          ],
          "name": "stdout"
        }
      ]
    },
    {
      "cell_type": "markdown",
      "metadata": {
        "id": "mORb9IwPP7oE",
        "colab_type": "text"
      },
      "source": [
        "## Evaluate accuracy"
      ]
    },
    {
      "cell_type": "code",
      "metadata": {
        "id": "rlKIF6ijOkiE",
        "colab_type": "code",
        "outputId": "3fac4a21-5331-4a35-8ef2-590857769295",
        "colab": {
          "base_uri": "https://localhost:8080/",
          "height": 68
        }
      },
      "source": [
        "test_loss, test_acc = model.evaluate(test_images, test_labels)\n",
        "print('Test loss:', test_loss)\n",
        "print('Test accuracy:', test_acc)"
      ],
      "execution_count": 0,
      "outputs": [
        {
          "output_type": "stream",
          "text": [
            "10000/10000 [==============================] - 1s 114us/sample - loss: 1.0476 - acc: 0.7149\n",
            "Test loss: 1.0475874546051025\n",
            "Test accuracy: 0.7149\n"
          ],
          "name": "stdout"
        }
      ]
    },
    {
      "cell_type": "markdown",
      "metadata": {
        "id": "GqbGdV6oXEyP",
        "colab_type": "text"
      },
      "source": [
        "## Training/test loss/accuracy during training"
      ]
    },
    {
      "cell_type": "code",
      "metadata": {
        "id": "3b5OCE5YTrEc",
        "colab_type": "code",
        "colab": {}
      },
      "source": [
        "history_dict = history.history\n",
        "loss_values = history_dict['loss']\n",
        "test_loss_values = history_dict['val_loss']\n",
        "epochs_range = range(1, epochs+1)"
      ],
      "execution_count": 0,
      "outputs": []
    },
    {
      "cell_type": "code",
      "metadata": {
        "id": "y98AOblYT3Pk",
        "colab_type": "code",
        "outputId": "4004535a-0659-4756-9695-4601ae45572e",
        "colab": {
          "base_uri": "https://localhost:8080/",
          "height": 295
        }
      },
      "source": [
        "plt.plot(epochs_range, loss_values, 'bo', label='Training loss')\n",
        "plt.plot(epochs_range, test_loss_values, 'ro', label='Test loss')\n",
        "plt.title('Training and test loss')\n",
        "plt.xlabel('Epochs')\n",
        "plt.ylabel('Loss')\n",
        "plt.legend()\n",
        "plt.show()"
      ],
      "execution_count": 0,
      "outputs": [
        {
          "output_type": "display_data",
          "data": {
            "image/png": "[encoded data removed]",
            "text/plain": [
              "<Figure size 432x288 with 1 Axes>"
            ]
          },
          "metadata": {
            "tags": []
          }
        }
      ]
    },
    {
      "cell_type": "code",
      "metadata": {
        "id": "790AkDaTWuZU",
        "colab_type": "code",
        "colab": {}
      },
      "source": [
        "acc_values = history_dict['acc']\n",
        "test_acc_values = history_dict['val_acc']"
      ],
      "execution_count": 0,
      "outputs": []
    },
    {
      "cell_type": "code",
      "metadata": {
        "id": "7BkIfPQ4W39E",
        "colab_type": "code",
        "outputId": "30fc47e1-be95-47ea-b66b-5534921a6b79",
        "colab": {
          "base_uri": "https://localhost:8080/",
          "height": 295
        }
      },
      "source": [
        "plt.plot(epochs_range, acc_values, 'bo', label='Training accuracy')\n",
        "plt.plot(epochs_range, test_acc_values, 'ro', label='Test accuracy')\n",
        "plt.title('Training and test accuracy')\n",
        "plt.xlabel('Epochs')\n",
        "plt.ylabel('Accuracy')\n",
        "plt.legend()\n",
        "plt.show()"
      ],
      "execution_count": 0,
      "outputs": [
        {
          "output_type": "display_data",
          "data": {
            "image/png": "[encoded data removed]",
            "text/plain": [
              "<Figure size 432x288 with 1 Axes>"
            ]
          },
          "metadata": {
            "tags": []
          }
        }
      ]
    },
    {
      "cell_type": "markdown",
      "metadata": {
        "id": "HWhX4uEsIy62",
        "colab_type": "text"
      },
      "source": [
        ""
      ]
    }
  ]
}